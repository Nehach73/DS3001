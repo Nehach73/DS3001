{
  "nbformat": 4,
  "nbformat_minor": 0,
  "metadata": {
    "colab": {
      "provenance": []
    },
    "kernelspec": {
      "name": "python3",
      "display_name": "Python 3"
    },
    "language_info": {
      "name": "python"
    }
  },
  "cells": [
    {
      "cell_type": "code",
      "execution_count": null,
      "metadata": {
        "id": "1xbzE3jxN7fl"
      },
      "outputs": [],
      "source": [
        "## homework assignment 1 - programming\n",
        "## Q1\n"
      ]
    }
  ]
}