{
  "nbformat": 4,
  "nbformat_minor": 0,
  "metadata": {
    "colab": {
      "provenance": [],
      "include_colab_link": true
    },
    "kernelspec": {
      "name": "python3",
      "display_name": "Python 3"
    },
    "language_info": {
      "name": "python"
    }
  },
  "cells": [
    {
      "cell_type": "markdown",
      "metadata": {
        "id": "view-in-github",
        "colab_type": "text"
      },
      "source": [
        "<a href=\"https://colab.research.google.com/github/Nehach73/DS3001/blob/main/programming_homework1.ipynb\" target=\"_parent\"><img src=\"https://colab.research.google.com/assets/colab-badge.svg\" alt=\"Open In Colab\"/></a>"
      ]
    },
    {
      "cell_type": "markdown",
      "source": [
        "**DS3001 Assignment 1: programming**"
      ],
      "metadata": {
        "id": "EOBqrOJY8O2s"
      }
    },
    {
      "cell_type": "markdown",
      "source": [
        "Question 1: Occupational outlook handbook\n",
        "\n",
        "\n",
        "The occupations in this spreadsheet are ranked from best (at the top) to worst (at the bottom) based on the ratio between annual salary and the amount of effort put into getting the minimum educational requirements for that job. For example, software developers and pharmacists make about the same median annual wages despite pharmacists needing four extra years of study."
      ],
      "metadata": {
        "id": "v-5qEy-x8dJz"
      }
    },
    {
      "cell_type": "markdown",
      "source": [
        "Question 3: Statistical functions"
      ],
      "metadata": {
        "id": "JY-RPpBqCc7o"
      }
    }
  ]
}