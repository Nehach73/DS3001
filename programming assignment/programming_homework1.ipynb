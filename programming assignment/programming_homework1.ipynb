{
  "nbformat": 4,
  "nbformat_minor": 0,
  "metadata": {
    "colab": {
      "provenance": [],
      "include_colab_link": true
    },
    "kernelspec": {
      "name": "python3",
      "display_name": "Python 3"
    },
    "language_info": {
      "name": "python"
    }
  },
  "cells": [
    {
      "cell_type": "markdown",
      "metadata": {
        "id": "view-in-github",
        "colab_type": "text"
      },
      "source": [
        "<a href=\"https://colab.research.google.com/github/Nehach73/DS3001/blob/main/programming%20assignment/programming_homework1.ipynb\" target=\"_parent\"><img src=\"https://colab.research.google.com/assets/colab-badge.svg\" alt=\"Open In Colab\"/></a>"
      ]
    },
    {
      "cell_type": "markdown",
      "source": [
        "**DS3001 Assignment 1: programming**"
      ],
      "metadata": {
        "id": "EOBqrOJY8O2s"
      }
    },
    {
      "cell_type": "markdown",
      "source": [
        "Question 1: Occupational outlook handbook\n",
        "\n",
        "\n",
        "The occupations in this spreadsheet are ranked from best (at the top) to worst (at the bottom) based on the ratio between annual salary and the amount of effort put into getting the minimum educational requirements for that job. For example, software developers and pharmacists make about the same median annual wages despite pharmacists needing four extra years of study."
      ],
      "metadata": {
        "id": "v-5qEy-x8dJz"
      }
    },
    {
      "cell_type": "markdown",
      "source": [
        "Question 3: Statistical functions"
      ],
      "metadata": {
        "id": "JY-RPpBqCc7o"
      }
    },
    {
      "cell_type": "code",
      "source": [
        "## random array generator\n",
        "import numpy as np\n",
        "np.random.seed(100)\n",
        "rho, sigma_x, sigma_y = -.4, 3, 2\n",
        "vcv = np.array([[sigma_x**2, rho*sigma_x*sigma_y],\n",
        "                [rho*sigma_x*sigma_y,sigma_y**2]])\n",
        "mu = np.array([-1,2])\n",
        "sample = np.random.multivariate_normal(mu,vcv,200)\n",
        "x = sample[:,0]\n",
        "y = sample[:,1]\n",
        "\n",
        "## Part 1\n",
        "def mean(x):\n",
        "    mean = np.sum(x)/len(x)\n",
        "    return mean\n",
        "print(\"Sample mean =\", mean(x))\n",
        "\n",
        "## Part 2\n",
        "def sd(x):\n",
        "    m = mean(x)\n",
        "    diffsqsum = np.sum((x-m)**2)\n",
        "    n = len(x)\n",
        "    variance = diffsqsum/(n-1)\n",
        "    sd = np.sqrt(variance)\n",
        "    return sd\n",
        "print(\"Sample standard deviation =\", sd(x))\n",
        "\n",
        "## Part 3\n",
        "def zscore(x):\n",
        "    m = mean(x)\n",
        "    s = sd(x)\n",
        "    z = (x-m)/s\n",
        "    return z\n",
        "print(\"Sample z scores =\", zscore(x)[0:10])\n",
        "\n",
        "## Part 4\n",
        "def covariance(x,y):\n",
        "    mx = mean(x)\n",
        "    my = mean(y)\n",
        "    diffsqsum = np.sum((x-mx)*(y-my))\n",
        "    n = len(x)\n",
        "    cov = diffsqsum/(n-1)\n",
        "    return cov\n",
        "print(\"Sample covariance =\", covariance(x,y))\n",
        "\n",
        "## Part 5\n",
        "def corrc(x,y):\n",
        "    r = covariance(x,y)/(sd(x)*sd(y))\n",
        "    return r\n",
        "print(\"Sample correlation coefficient =\", corrc(x,y))"
      ],
      "metadata": {
        "id": "dvrbUMpTDGjZ",
        "outputId": "03d01926-2a29-4600-dfbc-0f78f092e21d",
        "colab": {
          "base_uri": "https://localhost:8080/"
        }
      },
      "execution_count": null,
      "outputs": [
        {
          "output_type": "stream",
          "name": "stdout",
          "text": [
            "Sample mean = -1.0899806430403438\n",
            "Sample standard deviation = 3.2847981697718236\n",
            "Sample z scores = [ 1.65529743 -1.05060967 -0.74576403 -0.38160532  0.24681908  0.52189922\n",
            "  0.70940228 -0.59306576  0.70489592  0.19667971]\n",
            "Sample covariance = -2.8396505928938773\n",
            "Sample correlation coefficient = -0.42205093921264875\n"
          ]
        }
      ]
    }
  ]
}