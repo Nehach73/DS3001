{
  "nbformat": 4,
  "nbformat_minor": 0,
  "metadata": {
    "colab": {
      "provenance": [],
      "include_colab_link": true
    },
    "kernelspec": {
      "name": "python3",
      "display_name": "Python 3"
    },
    "language_info": {
      "name": "python"
    }
  },
  "cells": [
    {
      "cell_type": "markdown",
      "metadata": {
        "id": "view-in-github",
        "colab_type": "text"
      },
      "source": [
        "<a href=\"https://colab.research.google.com/github/Nehach73/DS3001/blob/main/wrangling_assignment/wrangling_assignment_code.ipynb\" target=\"_parent\"><img src=\"https://colab.research.google.com/assets/colab-badge.svg\" alt=\"Open In Colab\"/></a>"
      ]
    },
    {
      "cell_type": "markdown",
      "source": [
        "# Question 1\n",
        "\n",
        "1. This paper is about going beyond data cleaning (removing NAs and making sure every row is formatted correctly) and considering data tidying. Data tidying involves representing data is a simple, consistent format that can be manipulated and visualized easily through rows and columns in tables.\n",
        "\n",
        "2. The \"tidy data standard\" aims to provide a standard way to organize data values within a dataset. It facilitates the initial cleaning and exploration of data and simplifies the development of data analysis tools for the given data.\n",
        "\n",
        "3. The first sentence means that every tidy dataset is similar and can be analyzed and manipulated in the same way. However, all messy datasets need not be alike, because the semantics of the data is up to the person who designed the dataset and can vary from person to person. The second sentence speaks about how it is easy to visually distinguish between variables and observations but it is harder to infer their true meaning. The purpose of a value can be lost due to vague column headings or grouped observations.\n",
        "\n",
        "4.\n",
        "*   A value is a data object (usually a number or string) that is categorized in a dataset in two ways - by variable and by observation.\n",
        "* Variables are collections of values that describe the same attribute.\n",
        "* Observations are recorded values for one unit across attributes.\n",
        "\n",
        "5. Tidy data is the standard way of mapping the meaning of a dataset to its structure. This is done by forming tables where every column is a variable and every row is an observation.\n",
        "\n",
        "6. The five most common problems with messy data sets are:\n",
        "  * Column headers are values, not variables\n",
        "  * Multiple variables are stored in one column, which makes it hard to analyze and visualize data\n",
        "  * Variables are stored in both rows and columns - only observations are supposed to be stored in rows\n",
        "  * Multiple types of observational units are stored in one table, leading to confusion about the primary key/purpose of the observation\n",
        "  * A single observational unit is stored in multiple tables\n",
        "\n",
        "  The data in Table 4 is messy because the column headers are actually values of a hidden variable - income. Hence, there are unnecessary columns in the table.\n",
        "\n",
        "  Melting means turning columns into rows by introducing the column names as values in the \"molten\" table under \"column variable\".\n",
        "\n",
        "7. Table 11 is messy because the columns named D1, D2, etc. are actually values and not variables. By melting the data from those columns into one date column, Table 12 becomes much tidier and avoids the empty space that the first table had. Table 12(b) is the tidiest because it moves the variables that were mistakenly listen as values (tmax and tmin) and makes them column headers.\n",
        "\n",
        "8. The problem with focusing analytical tools on tidy data is that these tools will only work with tidy data, thereby making tidy data just as inefficient as simply clean data. Wickham hopes that people continue to have conversations about tidy data and build more frameworks to make data cleaning easier."
      ],
      "metadata": {
        "id": "H3a2DNRrtPhY"
      }
    },
    {
      "cell_type": "markdown",
      "source": [
        "# Question 2"
      ],
      "metadata": {
        "id": "rlREQOQougbR"
      }
    },
    {
      "cell_type": "code",
      "source": [
        "import pandas as pd\n",
        "import numpy as np\n",
        "import seaborn as sns"
      ],
      "metadata": {
        "id": "u5kujv-tW9-E"
      },
      "execution_count": 2,
      "outputs": []
    },
    {
      "cell_type": "markdown",
      "source": [
        "1."
      ],
      "metadata": {
        "id": "v14RiSUaXDkb"
      }
    },
    {
      "cell_type": "code",
      "source": [
        "df = pd.read_csv('./airbnb_hw.csv', low_memory=False)\n",
        "price = df['Price']\n",
        "\n",
        "price = price.str.replace(',', '')\n",
        "price = pd.to_numeric(price)\n",
        "\n",
        "print(price.unique())\n",
        "print(\"Total missing: \", sum(price.isnull()))\n",
        "\n",
        "df['Price'] = price\n",
        "del price"
      ],
      "metadata": {
        "id": "7Z6qLE_DXGQk",
        "outputId": "04090ffb-4026-4ede-ea5f-b1e3ad54827f",
        "colab": {
          "base_uri": "https://localhost:8080/"
        }
      },
      "execution_count": null,
      "outputs": [
        {
          "output_type": "stream",
          "name": "stdout",
          "text": [
            "[  145    37    28   199   549   149   250    90   270   290   170    59\n",
            "    49    68   285    75   100   150   700   125   175    40    89    95\n",
            "    99   499   120    79   110   180   143   230   350   135    85    60\n",
            "    70    55    44   200   165   115    74    84   129    50   185    80\n",
            "   190   140    45    65   225   600   109  1990    73   240    72   105\n",
            "   155   160    42   132   117   295   280   159   107    69   239   220\n",
            "   399   130   375   585   275   139   260    35   133   300   289   179\n",
            "    98   195    29    27    39   249   192   142   169  1000   131   138\n",
            "   113   122   329   101   475   238   272   308   126   235   315   248\n",
            "   128    56   207   450   215   210   385   445   136   247   118    77\n",
            "    76    92   198   205   299   222   245   104   153   349   114   320\n",
            "   292   226   420   500   325   307    78   265   108   123   189    32\n",
            "    58    86   219   800   335    63   229   425    67    87  1200   158\n",
            "   650   234   310   695   400   166   119    62   168   340   479    43\n",
            "   395   144    52    47   529   187   209   233    82   269   163   172\n",
            "   305   156   550   435   137   124    48   279   330  5000   134   378\n",
            "    97   277    64   193   147   186   264    30  3000   112    94   379\n",
            "    57   415   236   410   214    88    66    71   171   157   545  1500\n",
            "    83    96  1800    81   188   380   255   505    54    33   174    93\n",
            "   740   640  1300   440   599   357  1239   495   127  5999   178   348\n",
            "   152   242   183   253   750   259   365   273   197   397   103   389\n",
            "   355   559    38   203   999   141   162   333   698    46   360   895\n",
            "    10    41   206   281   449   388   212   102   201  2750  4750   432\n",
            "   675   167   390   298   339   194   302   211   595   191    53   361\n",
            "   480  8000  4500   459   997   345   216   218   111   735   276    91\n",
            "   490   850   398    36   775   267   625   336  2500   176   725  3750\n",
            "   469   106   460   287   575   227   263    25   228   208   177   880\n",
            "   148   116   685   470   217   164    61   645   699   405   252   319\n",
            "   268   419   343   525   311   840   154   294   950   409   184   257\n",
            "   204   241  2000   412   121   288   196   900   647   524  1750   309\n",
            "   510  1495  1700   799   383   372   492   327  1999   656   224   173\n",
            "   875  1170   795   690   146   465  1100   151   274   429   825   282\n",
            "   256  1111   620   271   161    51   855   579  1174   430    20   899\n",
            "   649   485   181   455  4000   243   342   590   560   374   437   232\n",
            "   359   985    31   244   254   723   237   428   370    34  1400   580\n",
            "  2520   221   749  1600  2695   306   202   680   570   520   223  2295\n",
            "   213  1065   346    24   286   296   266    26   995  1368   393   182\n",
            "   635   258   780   589   347  1250  1350   446  3200  1050  1650  1550\n",
            "   975   323  6500  2499  1850  2250   715   461   540   356   439   384\n",
            "   569  1900    22   785   626   830   318   444   321   401  1499   888\n",
            "   369   770   386   366   344   630   313   597   262   509 10000   278\n",
            "   312   789  1195   422    21   765  3500   945   326  3100  2486  3390\n",
            "  1356  2599   472   454   328   396   291]\n",
            "Total missing:  0\n"
          ]
        }
      ]
    },
    {
      "cell_type": "markdown",
      "source": [
        "2."
      ],
      "metadata": {
        "id": "I7kERhP-dtz7"
      }
    },
    {
      "cell_type": "code",
      "source": [
        "df = pd.read_csv('./sharks.csv', low_memory=False)\n",
        "df.head()\n",
        "\n",
        "attack_type = df['Type']\n",
        "attack_type = attack_type.replace(['Boating', 'Sea Disaster', 'Boat', 'Boatomg'], 'Watercraft') # All of these types refer to watercraft incidents\n",
        "attack_type = attack_type.replace(['Unconfirmed', 'Unverified', 'Invalid', 'Under investigation', 'Questionable'], np.nan) # All of these incidents are ambiguous\n",
        "\n",
        "attack_type.value_counts()\n",
        "\n",
        "df['Type'] = attack_type\n",
        "del attack_type"
      ],
      "metadata": {
        "id": "9Yd0ppBRd0D5",
        "outputId": "f56c07c2-db3c-4f8e-d7a2-b4baf1665dc3",
        "colab": {
          "base_uri": "https://localhost:8080/"
        }
      },
      "execution_count": null,
      "outputs": [
        {
          "output_type": "execute_result",
          "data": {
            "text/plain": [
              "Unprovoked    4716\n",
              "Provoked       593\n",
              "Watercraft     583\n",
              "Name: Type, dtype: int64"
            ]
          },
          "metadata": {},
          "execution_count": 21
        }
      ]
    },
    {
      "cell_type": "markdown",
      "source": [
        "3."
      ],
      "metadata": {
        "id": "mTQAffPUggbG"
      }
    },
    {
      "cell_type": "code",
      "source": [
        "df = pd.read_csv('./pretrial_data.csv', low_memory=False)"
      ],
      "metadata": {
        "id": "OoFUhXfMiE7q"
      },
      "execution_count": 49,
      "outputs": []
    },
    {
      "cell_type": "code",
      "source": [
        "released = df['WhetherDefendantWasReleasedPretrial']\n",
        "\n",
        "print(\"Initial values: \", '\\n', released.value_counts(), '\\n')\n",
        "\n",
        "released = released.replace(9, np.nan)\n",
        "print(\"Cleaned values: \", '\\n', released.value_counts())\n",
        "\n",
        "df['WhetherDefendantWasReleasedPretrial'] = released\n",
        "del released"
      ],
      "metadata": {
        "colab": {
          "base_uri": "https://localhost:8080/"
        },
        "id": "wqQJqzso3G2I",
        "outputId": "2a4cfa03-4cae-449b-ec44-1afda64b50aa"
      },
      "execution_count": 24,
      "outputs": [
        {
          "output_type": "stream",
          "name": "stdout",
          "text": [
            "Initial values:  \n",
            " 1    19154\n",
            "0     3801\n",
            "9       31\n",
            "Name: WhetherDefendantWasReleasedPretrial, dtype: int64 \n",
            "\n",
            "Cleaned values:  \n",
            " 1.0    19154\n",
            "0.0     3801\n",
            "Name: WhetherDefendantWasReleasedPretrial, dtype: int64\n"
          ]
        }
      ]
    },
    {
      "cell_type": "markdown",
      "source": [
        "4."
      ],
      "metadata": {
        "id": "5RZyYgnh64HX"
      }
    },
    {
      "cell_type": "code",
      "source": [
        "sent_term = df['ImposedSentenceAllChargeInContactEvent']\n",
        "sent_type = df['SentenceTypeAllChargesAtConvictionInContactEvent']\n",
        "\n",
        "sent_term = pd.to_numeric(sent_term,errors='coerce')\n",
        "print(\"Missing values after coercing to numeric: \", sum(sent_term.isnull()), '\\n')\n",
        "\n",
        "print(pd.crosstab(sent_term.isnull(), sent_type), '\\n') # Missing sentence term values by sentence type\n",
        "sent_term = sent_term.mask( sent_type == 4, 0) # 4 represents sentences that were overturned, conversion of invalid term to length of 0 months\n",
        "sent_term = sent_term.mask( sent_type == 9, np.nan) # 9 represents missing or unknown values\n",
        "print(pd.crosstab(sent_term.isnull(), sent_type), '\\n')\n",
        "print(\"Missing values after cleaning: \", sum(sent_term.isnull()))\n",
        "\n",
        "df['ImposedSentenceAllChargeInContactEvent'] = sent_term\n",
        "del sent_type, sent_term"
      ],
      "metadata": {
        "colab": {
          "base_uri": "https://localhost:8080/"
        },
        "id": "VDhC_brm644f",
        "outputId": "f4504838-7280-4b6f-a75b-f5990992a9dd"
      },
      "execution_count": 51,
      "outputs": [
        {
          "output_type": "stream",
          "name": "stdout",
          "text": [
            "Missing values after coercing to numeric:  9053 \n",
            "\n",
            "SentenceTypeAllChargesAtConvictionInContactEvent     0     1    2     4    9\n",
            "ImposedSentenceAllChargeInContactEvent                                      \n",
            "False                                             8720  4299  914     0    0\n",
            "True                                                 0     0    0  8779  274 \n",
            "\n",
            "SentenceTypeAllChargesAtConvictionInContactEvent     0     1    2     4    9\n",
            "ImposedSentenceAllChargeInContactEvent                                      \n",
            "False                                             8720  4299  914  8779    0\n",
            "True                                                 0     0    0     0  274 \n",
            "\n",
            "Missing values after cleaning:  274\n"
          ]
        }
      ]
    }
  ]
}