{
  "nbformat": 4,
  "nbformat_minor": 0,
  "metadata": {
    "colab": {
      "provenance": [],
      "include_colab_link": true
    },
    "kernelspec": {
      "name": "python3",
      "display_name": "Python 3"
    },
    "language_info": {
      "name": "python"
    }
  },
  "cells": [
    {
      "cell_type": "markdown",
      "metadata": {
        "id": "view-in-github",
        "colab_type": "text"
      },
      "source": [
        "<a href=\"https://colab.research.google.com/github/Nehach73/DS3001/blob/main/wrangling_assignment/wrangling_assignment_code.ipynb\" target=\"_parent\"><img src=\"https://colab.research.google.com/assets/colab-badge.svg\" alt=\"Open In Colab\"/></a>"
      ]
    },
    {
      "cell_type": "markdown",
      "source": [
        "# Question 1\n",
        "\n",
        "1. This paper is about going beyond data cleaning (removing NAs and making sure every row is formatted correctly) and considering data tidying. Data tidying involves representing data is a simple, consistent format that can be manipulated and visualized easily through rows and columns in tables.\n",
        "\n",
        "2. The \"tidy data standard\" aims to provide a standard way to organize data values within a dataset. It facilitates the initial cleaning and exploration of data and simplifies the development of data analysis tools for the given data.\n",
        "\n",
        "3. The first sentence means that every tidy dataset is similar and can be analyzed and manipulated in the same way. However, all messy datasets need not be alike, because the semantics of the data is up to the person who designed the dataset and can vary from person to person. The second sentence speaks about how it is easy to visually distinguish between variables and observations but it is harder to infer their true meaning. The purpose of a value can be lost due to vague column headings or grouped observations.\n",
        "\n",
        "4.\n",
        "*   A value is a data object (usually a number or string) that is categorized in a dataset in two ways - by variable and by observation.\n",
        "* Variables are collections of values that describe the same attribute.\n",
        "* Observations are recorded values for one unit across attributes.\n",
        "\n",
        "5. Tidy data is the standard way of mapping the meaning of a dataset to its structure. This is done by forming tables where every column is a variable and every row is an observation.\n",
        "\n",
        "6. The five most common problems with messy data sets are:\n",
        "  * Column headers are values, not variables\n",
        "  * Multiple variables are stored in one column, which makes it hard to analyze and visualize data\n",
        "  * Variables are stored in both rows and columns - only observations are supposed to be stored in rows\n",
        "  * Multiple types of observational units are stored in one table, leading to confusion about the primary key/purpose of the observation\n",
        "  * A single observational unit is stored in multiple tables\n",
        "\n",
        "  The data in Table 4 is messy because the column headers are actually values of a hidden variable - income. Hence, there are unnecessary columns in the table.\n",
        "\n",
        "  Melting means turning columns into rows by introducing the column names as values in the \"molten\" table under \"column variable\".\n",
        "\n",
        "7. Table 11 is messy because the columns named D1, D2, etc. are actually values and not variables. By melting the data from those columns into one date column, Table 12 becomes much tidier and avoids the empty space that the first table had. Table 12(b) is the tidiest because it moves the variables that were mistakenly listen as values (tmax and tmin) and makes them column headers.\n",
        "\n",
        "8. The problem with focusing analytical tools on tidy data is that these tools will only work with tidy data, thereby making tidy data just as inefficient as simply clean data. Wickham hopes that people continue to have conversations about tidy data and build more frameworks to make data cleaning easier."
      ],
      "metadata": {
        "id": "H3a2DNRrtPhY"
      }
    },
    {
      "cell_type": "markdown",
      "source": [
        "# Question 2"
      ],
      "metadata": {
        "id": "rlREQOQougbR"
      }
    }
  ]
}